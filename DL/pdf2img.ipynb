{
 "cells": [
  {
   "cell_type": "code",
   "execution_count": 1,
   "metadata": {},
   "outputs": [
    {
     "data": {
      "text/plain": [
       "'for f in *PDF; do\\n   mv -- \"$f\" \"${f%.txt}.pdf\"\\ndone'"
      ]
     },
     "execution_count": 1,
     "metadata": {},
     "output_type": "execute_result"
    }
   ],
   "source": [
    "'''for f in *PDF; do\n",
    "   mv -- \"$f\" \"${f%.txt}.pdf\"\n",
    "done'''"
   ]
  },
  {
   "cell_type": "code",
   "execution_count": null,
   "metadata": {},
   "outputs": [
    {
     "name": "stdout",
     "output_type": "stream",
     "text": [
      "Requirement already satisfied: pdf2image in /usr/local/lib/python3.6/dist-packages (1.14.0)\n",
      "Requirement already satisfied: pillow in /usr/local/lib/python3.6/dist-packages (from pdf2image) (7.0.0)\n",
      "\u001b[33mWARNING: You are using pip version 20.2.3; however, version 20.2.4 is available.\n",
      "You should consider upgrading via the '/usr/bin/python3 -m pip install --upgrade pip' command.\u001b[0m\n",
      "Reading package lists... 6%\r"
     ]
    }
   ],
   "source": [
    "!pip install pdf2image\n",
    "! apt-get install poppler-utils -y\n"
   ]
  },
  {
   "cell_type": "code",
   "execution_count": null,
   "metadata": {},
   "outputs": [],
   "source": [
    "import os\n",
    "from pdf2image import convert_from_path\n"
   ]
  },
  {
   "cell_type": "code",
   "execution_count": null,
   "metadata": {},
   "outputs": [],
   "source": [
    "for top, dirs, files in os.walk('./Dataset'):\n",
    "    for nm in files:   \n",
    "        fnn=os.path.join(top, nm)\n",
    "        if fnn[-3:]=='pdf':\n",
    "            print(fnn)\n",
    "            pages = convert_from_path(fnn, 100)\n",
    "            doci=0\n",
    "            for page in pages:\n",
    "                classF=fnn.split('/')[-2]\n",
    "                page.save('./img/out__'+fnn.replace('/', '_').replace(' ', '_')[2:-4]+'__'+str(doci).zfill(4)+'.jpg', 'JPEG')\n",
    "                doci=doci+1"
   ]
  },
  {
   "cell_type": "code",
   "execution_count": null,
   "metadata": {},
   "outputs": [],
   "source": []
  }
 ],
 "metadata": {
  "kernelspec": {
   "display_name": "Python 3",
   "language": "python",
   "name": "python3"
  },
  "language_info": {
   "codemirror_mode": {
    "name": "ipython",
    "version": 3
   },
   "file_extension": ".py",
   "mimetype": "text/x-python",
   "name": "python",
   "nbconvert_exporter": "python",
   "pygments_lexer": "ipython3",
   "version": "3.6.9"
  }
 },
 "nbformat": 4,
 "nbformat_minor": 4
}
